{
  "nbformat": 4,
  "nbformat_minor": 0,
  "metadata": {
    "colab": {
      "name": "fashion.ipynb",
      "provenance": []
    },
    "kernelspec": {
      "name": "python3",
      "display_name": "Python 3"
    },
    "language_info": {
      "name": "python"
    }
  },
  "cells": [
    {
      "cell_type": "code",
      "source": [
        "from matplotlib import pyplot as plt\n",
        "import numpy as np\n",
        "from tensorflow.keras.utils import to_categorical\n",
        "from keras.models import Sequential \n",
        "from keras.utils import np_utils\n",
        "from keras.layers import Dense,Activation,Dropout,LSTM,BatchNormalization\n",
        "from keras.layers import Flatten\n",
        "from tensorflow.keras.optimizers import SGD\n",
        "from tensorflow.keras.utils import load_img,img_to_array\n",
        "from tensorflow.keras.models import load_model"
      ],
      "metadata": {
        "id": "Qs3Z7St1MQSR"
      },
      "execution_count": 2,
      "outputs": []
    },
    {
      "cell_type": "code",
      "execution_count": 3,
      "metadata": {
        "colab": {
          "base_uri": "https://localhost:8080/"
        },
        "id": "zBOqrILGIZdd",
        "outputId": "68807a1a-9b3a-4bee-ec1e-54d39c07474b"
      },
      "outputs": [
        {
          "output_type": "stream",
          "name": "stdout",
          "text": [
            "Downloading data from https://storage.googleapis.com/tensorflow/tf-keras-datasets/train-labels-idx1-ubyte.gz\n",
            "32768/29515 [=================================] - 0s 0us/step\n",
            "40960/29515 [=========================================] - 0s 0us/step\n",
            "Downloading data from https://storage.googleapis.com/tensorflow/tf-keras-datasets/train-images-idx3-ubyte.gz\n",
            "26427392/26421880 [==============================] - 0s 0us/step\n",
            "26435584/26421880 [==============================] - 0s 0us/step\n",
            "Downloading data from https://storage.googleapis.com/tensorflow/tf-keras-datasets/t10k-labels-idx1-ubyte.gz\n",
            "16384/5148 [===============================================================================================] - 0s 0us/step\n",
            "Downloading data from https://storage.googleapis.com/tensorflow/tf-keras-datasets/t10k-images-idx3-ubyte.gz\n",
            "4423680/4422102 [==============================] - 0s 0us/step\n",
            "4431872/4422102 [==============================] - 0s 0us/step\n"
          ]
        },
        {
          "output_type": "execute_result",
          "data": {
            "text/plain": [
              "(60000, 28, 28)"
            ]
          },
          "metadata": {},
          "execution_count": 3
        }
      ],
      "source": [
        "from keras.datasets import fashion_mnist\n",
        "from sklearn.model_selection import train_test_split\n",
        "(x_train, y_train), (x_test, y_test) = fashion_mnist.load_data()\n"
      ]
    },
    {
      "cell_type": "code",
      "source": [
        "x_train= x_train.reshape(60000,784)\n",
        "x_test = x_test.reshape(10000,784)\n",
        "x_train=x_train.astype('float32')\n",
        "x_test=x_test.astype('float32')\n",
        "x_train/=255\n",
        "x_test/=255\n",
        "y_train=to_categorical(y_train)\n",
        "y_test=to_categorical(y_test)"
      ],
      "metadata": {
        "id": "Yk0FCQBhPTbp"
      },
      "execution_count": 4,
      "outputs": []
    },
    {
      "cell_type": "code",
      "source": [
        "from keras.models import Sequential \n",
        "from keras.layers import Dense, Activation, Dropout, Flatten, MaxPooling2D\n",
        "model = Sequential()\n",
        "model.add(Dense(512,activation='relu',input_shape=(784,)))\n",
        "model.add(Dense(512,activation='relu'))\n",
        "model.add(Dense(512,activation='relu'))\n",
        "model.add(Dense(10,activation='Softmax'))\n",
        "print(model.summary())"
      ],
      "metadata": {
        "colab": {
          "base_uri": "https://localhost:8080/"
        },
        "id": "_M44PjHPKF42",
        "outputId": "a1265aef-5f4b-48ce-ceeb-7ba6e6c8fa1a"
      },
      "execution_count": 5,
      "outputs": [
        {
          "output_type": "stream",
          "name": "stdout",
          "text": [
            "Model: \"sequential\"\n",
            "_________________________________________________________________\n",
            " Layer (type)                Output Shape              Param #   \n",
            "=================================================================\n",
            " dense (Dense)               (None, 512)               401920    \n",
            "                                                                 \n",
            " dense_1 (Dense)             (None, 512)               262656    \n",
            "                                                                 \n",
            " dense_2 (Dense)             (None, 512)               262656    \n",
            "                                                                 \n",
            " dense_3 (Dense)             (None, 10)                5130      \n",
            "                                                                 \n",
            "=================================================================\n",
            "Total params: 932,362\n",
            "Trainable params: 932,362\n",
            "Non-trainable params: 0\n",
            "_________________________________________________________________\n",
            "None\n"
          ]
        }
      ]
    },
    {
      "cell_type": "code",
      "source": [
        "from keras.callbacks import EarlyStopping\n",
        "opt=SGD(learning_rate=0.01,momentum=0.9)\n",
        "model.compile(loss='categorical_crossentropy',optimizer='RMSprop',metrics=['accuracy'])\n",
        "history = model.fit(x_train,y_train,batch_size=128,epochs=100,verbose=1,callbacks=[EarlyStopping(monitor='val_loss',patience=20)],validation_data=(x_test,y_test))"
      ],
      "metadata": {
        "colab": {
          "base_uri": "https://localhost:8080/"
        },
        "id": "SYQm6xOiLtiK",
        "outputId": "9c5ed43a-e367-4c14-a4a4-3a8f8f44e9f1"
      },
      "execution_count": 11,
      "outputs": [
        {
          "output_type": "stream",
          "name": "stdout",
          "text": [
            "Epoch 1/100\n",
            "469/469 [==============================] - 10s 19ms/step - loss: 0.2756 - accuracy: 0.9025 - val_loss: 0.4466 - val_accuracy: 0.8783\n",
            "Epoch 2/100\n",
            "469/469 [==============================] - 9s 19ms/step - loss: 0.2660 - accuracy: 0.9048 - val_loss: 0.4920 - val_accuracy: 0.8661\n",
            "Epoch 3/100\n",
            "469/469 [==============================] - 9s 19ms/step - loss: 0.2621 - accuracy: 0.9073 - val_loss: 0.3983 - val_accuracy: 0.8816\n",
            "Epoch 4/100\n",
            "469/469 [==============================] - 10s 21ms/step - loss: 0.2561 - accuracy: 0.9071 - val_loss: 0.5172 - val_accuracy: 0.8802\n",
            "Epoch 5/100\n",
            "469/469 [==============================] - 10s 21ms/step - loss: 0.2525 - accuracy: 0.9092 - val_loss: 0.4745 - val_accuracy: 0.8787\n",
            "Epoch 6/100\n",
            "469/469 [==============================] - 9s 19ms/step - loss: 0.2457 - accuracy: 0.9122 - val_loss: 0.5560 - val_accuracy: 0.8862\n",
            "Epoch 7/100\n",
            "469/469 [==============================] - 9s 19ms/step - loss: 0.2441 - accuracy: 0.9137 - val_loss: 0.5661 - val_accuracy: 0.8773\n",
            "Epoch 8/100\n",
            "469/469 [==============================] - 9s 19ms/step - loss: 0.2407 - accuracy: 0.9145 - val_loss: 0.4978 - val_accuracy: 0.8875\n",
            "Epoch 9/100\n",
            "469/469 [==============================] - 9s 19ms/step - loss: 0.2361 - accuracy: 0.9149 - val_loss: 0.5476 - val_accuracy: 0.8841\n",
            "Epoch 10/100\n",
            "469/469 [==============================] - 9s 19ms/step - loss: 0.2374 - accuracy: 0.9172 - val_loss: 0.5317 - val_accuracy: 0.8861\n",
            "Epoch 11/100\n",
            "469/469 [==============================] - 9s 19ms/step - loss: 0.2326 - accuracy: 0.9176 - val_loss: 0.7993 - val_accuracy: 0.8667\n",
            "Epoch 12/100\n",
            "469/469 [==============================] - 9s 19ms/step - loss: 0.2261 - accuracy: 0.9195 - val_loss: 0.5833 - val_accuracy: 0.8925\n",
            "Epoch 13/100\n",
            "469/469 [==============================] - 9s 19ms/step - loss: 0.2211 - accuracy: 0.9207 - val_loss: 0.6480 - val_accuracy: 0.8880\n",
            "Epoch 14/100\n",
            "469/469 [==============================] - 9s 19ms/step - loss: 0.2365 - accuracy: 0.9228 - val_loss: 0.7317 - val_accuracy: 0.8830\n",
            "Epoch 15/100\n",
            "469/469 [==============================] - 9s 19ms/step - loss: 0.2222 - accuracy: 0.9231 - val_loss: 0.6663 - val_accuracy: 0.8841\n",
            "Epoch 16/100\n",
            "469/469 [==============================] - 9s 19ms/step - loss: 0.2149 - accuracy: 0.9239 - val_loss: 0.8285 - val_accuracy: 0.8468\n",
            "Epoch 17/100\n",
            "469/469 [==============================] - 9s 19ms/step - loss: 0.2131 - accuracy: 0.9261 - val_loss: 0.7899 - val_accuracy: 0.8928\n",
            "Epoch 18/100\n",
            "469/469 [==============================] - 9s 19ms/step - loss: 0.2166 - accuracy: 0.9270 - val_loss: 0.7124 - val_accuracy: 0.8896\n",
            "Epoch 19/100\n",
            "469/469 [==============================] - 9s 19ms/step - loss: 0.2223 - accuracy: 0.9257 - val_loss: 0.7343 - val_accuracy: 0.8839\n",
            "Epoch 20/100\n",
            "469/469 [==============================] - 9s 19ms/step - loss: 0.2035 - accuracy: 0.9275 - val_loss: 0.7187 - val_accuracy: 0.8882\n",
            "Epoch 21/100\n",
            "469/469 [==============================] - 9s 19ms/step - loss: 0.2024 - accuracy: 0.9285 - val_loss: 0.7137 - val_accuracy: 0.8952\n",
            "Epoch 22/100\n",
            "469/469 [==============================] - 9s 19ms/step - loss: 0.2063 - accuracy: 0.9286 - val_loss: 0.7959 - val_accuracy: 0.8871\n",
            "Epoch 23/100\n",
            "469/469 [==============================] - 9s 19ms/step - loss: 0.1987 - accuracy: 0.9311 - val_loss: 0.8380 - val_accuracy: 0.8820\n"
          ]
        }
      ]
    },
    {
      "cell_type": "code",
      "source": [
        "model.evaluate(x_test, y_test)"
      ],
      "metadata": {
        "colab": {
          "base_uri": "https://localhost:8080/"
        },
        "id": "sk4MhPQ1SVJ1",
        "outputId": "1d4b7f1f-3c3c-4c3c-8cc3-ebc9c3b4fb0c"
      },
      "execution_count": 12,
      "outputs": [
        {
          "output_type": "stream",
          "name": "stdout",
          "text": [
            "313/313 [==============================] - 1s 3ms/step - loss: 0.8380 - accuracy: 0.8820\n"
          ]
        },
        {
          "output_type": "execute_result",
          "data": {
            "text/plain": [
              "[0.8380120992660522, 0.8820000290870667]"
            ]
          },
          "metadata": {},
          "execution_count": 12
        }
      ]
    },
    {
      "cell_type": "code",
      "source": [
        "model.save(\"fashion.h5\")"
      ],
      "metadata": {
        "id": "cZy_KZG1SnE7"
      },
      "execution_count": 13,
      "outputs": []
    },
    {
      "cell_type": "code",
      "source": [
        "import matplotlib.pyplot as plt\n",
        "\n",
        "plt.plot(history.history[\"accuracy\"])\n",
        "plt.plot(history.history[\"val_accuracy\"])\n",
        "plt.title(\"Model accuracy\")\n",
        "plt.xlabel(\"epoch\")\n",
        "plt.ylabel(\"accuracy\")\n",
        "plt.legend([\"train\", \"validation\"], loc = \"upper left\")"
      ],
      "metadata": {
        "colab": {
          "base_uri": "https://localhost:8080/",
          "height": 313
        },
        "id": "-LLf2zfSWwyV",
        "outputId": "b4e5a09e-64ab-4032-e5ec-f83fe243d5ed"
      },
      "execution_count": 14,
      "outputs": [
        {
          "output_type": "execute_result",
          "data": {
            "text/plain": [
              "<matplotlib.legend.Legend at 0x7f290e6d7790>"
            ]
          },
          "metadata": {},
          "execution_count": 14
        },
        {
          "output_type": "display_data",
          "data": {
            "text/plain": [
              "<Figure size 432x288 with 1 Axes>"
            ],
            "image/png": "[encoded data removed]"
          },
          "metadata": {
            "needs_background": "light"
          }
        }
      ]
    },
    {
      "cell_type": "code",
      "source": [
        "import tensorflow as tf \n",
        "import numpy as np\n",
        "import matplotlib.pyplot as plt"
      ],
      "metadata": {
        "id": "3FTFAFn1-Q-h"
      },
      "execution_count": null,
      "outputs": []
    },
    {
      "cell_type": "code",
      "source": [
        "data = tf.keras.datasets.fashion_mnist\n",
        "(x_train, y_train), (x_test, y_test)  =  data.load_data()"
      ],
      "metadata": {
        "id": "-_I3vudu-Y98",
        "outputId": "f071f1cd-7bdd-4a99-c3e7-b505dff3b247",
        "colab": {
          "base_uri": "https://localhost:8080/"
        }
      },
      "execution_count": null,
      "outputs": [
        {
          "output_type": "stream",
          "name": "stdout",
          "text": [
            "Downloading data from https://storage.googleapis.com/tensorflow/tf-keras-datasets/train-labels-idx1-ubyte.gz\n",
            "32768/29515 [=================================] - 0s 0us/step\n",
            "40960/29515 [=========================================] - 0s 0us/step\n",
            "Downloading data from https://storage.googleapis.com/tensorflow/tf-keras-datasets/train-images-idx3-ubyte.gz\n",
            "26427392/26421880 [==============================] - 0s 0us/step\n",
            "26435584/26421880 [==============================] - 0s 0us/step\n",
            "Downloading data from https://storage.googleapis.com/tensorflow/tf-keras-datasets/t10k-labels-idx1-ubyte.gz\n",
            "16384/5148 [===============================================================================================] - 0s 0us/step\n",
            "Downloading data from https://storage.googleapis.com/tensorflow/tf-keras-datasets/t10k-images-idx3-ubyte.gz\n",
            "4423680/4422102 [==============================] - 0s 0us/step\n",
            "4431872/4422102 [==============================] - 0s 0us/step\n"
          ]
        }
      ]
    },
    {
      "cell_type": "code",
      "source": [
        ""
      ],
      "metadata": {
        "id": "y0-dQqDT-biH"
      },
      "execution_count": null,
      "outputs": []
    }
  ]
}