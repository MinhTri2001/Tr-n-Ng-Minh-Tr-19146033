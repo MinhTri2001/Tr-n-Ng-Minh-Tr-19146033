{
  "nbformat": 4,
  "nbformat_minor": 0,
  "metadata": {
    "colab": {
      "name": "nhandien100vat.ipynb",
      "provenance": []
    },
    "kernelspec": {
      "name": "python3",
      "display_name": "Python 3"
    },
    "language_info": {
      "name": "python"
    }
  },
  "cells": [
    {
      "cell_type": "code",
      "execution_count": 1,
      "metadata": {
        "id": "3JPCAK8MVqff"
      },
      "outputs": [],
      "source": [
        "from keras.datasets import cifar100\n",
        "from matplotlib import pyplot as plt\n",
        "import numpy as np\n",
        "from tensorflow.keras.utils import to_categorical\n",
        "from keras.models import Sequential \n",
        "from keras.utils import np_utils\n",
        "from keras.layers import Dense,Activation,Dropout,LSTM,BatchNormalization\n",
        "from keras.layers import Flatten\n",
        "from tensorflow.keras.optimizers import SGD\n",
        "from tensorflow.keras.utils import load_img,img_to_array\n",
        "from tensorflow.keras.models import load_model"
      ]
    },
    {
      "cell_type": "code",
      "source": [
        "(x_train,y_train),(x_test,y_test) = cifar100.load_data()\n",
        "assert x_train.shape == (50000, 32, 32, 3)\n",
        "assert x_test.shape == (10000, 32, 32, 3)\n",
        "assert y_train.shape == (50000, 1)\n",
        "assert y_test.shape == (10000, 1)"
      ],
      "metadata": {
        "colab": {
          "base_uri": "https://localhost:8080/"
        },
        "id": "HaDDQgi2V31j",
        "outputId": "17006864-cac8-4649-dc47-1d4c0f7a39e5"
      },
      "execution_count": 2,
      "outputs": [
        {
          "output_type": "stream",
          "name": "stdout",
          "text": [
            "Downloading data from https://www.cs.toronto.edu/~kriz/cifar-100-python.tar.gz\n",
            "169009152/169001437 [==============================] - 6s 0us/step\n",
            "169017344/169001437 [==============================] - 6s 0us/step\n"
          ]
        }
      ]
    },
    {
      "cell_type": "code",
      "source": [
        "x_train=x_train.astype('float32')\n",
        "x_test=x_test.astype('float32')\n",
        "x_train/=255\n",
        "x_test/=255\n",
        "y_train=to_categorical(y_train)\n",
        "y_test=to_categorical(y_test)"
      ],
      "metadata": {
        "id": "QlVGOTGoV6FR"
      },
      "execution_count": 3,
      "outputs": []
    },
    {
      "cell_type": "code",
      "source": [
        "model = Sequential()\n",
        "model.add(Flatten(input_shape=(32,32,3)))\n",
        "model.add(Dense(784,activation='relu'))\n",
        "model.add(Dense(784,activation='relu'))\n",
        "model.add(Dense(100,activation='Softmax'))\n",
        "model.summary()"
      ],
      "metadata": {
        "colab": {
          "base_uri": "https://localhost:8080/"
        },
        "id": "zmomuWXrV7nm",
        "outputId": "fc292a48-6661-4d39-820f-c79c4d6699a9"
      },
      "execution_count": 4,
      "outputs": [
        {
          "output_type": "stream",
          "name": "stdout",
          "text": [
            "Model: \"sequential\"\n",
            "_________________________________________________________________\n",
            " Layer (type)                Output Shape              Param #   \n",
            "=================================================================\n",
            " flatten (Flatten)           (None, 3072)              0         \n",
            "                                                                 \n",
            " dense (Dense)               (None, 784)               2409232   \n",
            "                                                                 \n",
            " dense_1 (Dense)             (None, 784)               615440    \n",
            "                                                                 \n",
            " dense_2 (Dense)             (None, 100)               78500     \n",
            "                                                                 \n",
            "=================================================================\n",
            "Total params: 3,103,172\n",
            "Trainable params: 3,103,172\n",
            "Non-trainable params: 0\n",
            "_________________________________________________________________\n"
          ]
        }
      ]
    },
    {
      "cell_type": "code",
      "source": [
        "opt=SGD(learning_rate=0.01,momentum=0.9)\n",
        "model.compile(loss='categorical_crossentropy',optimizer=opt,metrics=['accuracy'])\n",
        "history = model.fit(x_train,y_train,batch_size=128,epochs=50,verbose=1,validation_data=(x_test,y_test))"
      ],
      "metadata": {
        "colab": {
          "base_uri": "https://localhost:8080/"
        },
        "id": "HiyPO1G_V9DO",
        "outputId": "3c22af7f-f340-4219-b3d1-a30e9915d53c"
      },
      "execution_count": 5,
      "outputs": [
        {
          "output_type": "stream",
          "name": "stdout",
          "text": [
            "Epoch 1/50\n",
            "391/391 [==============================] - 20s 50ms/step - loss: 4.0729 - accuracy: 0.0845 - val_loss: 3.8004 - val_accuracy: 0.1249\n",
            "Epoch 2/50\n",
            "391/391 [==============================] - 19s 48ms/step - loss: 3.6812 - accuracy: 0.1451 - val_loss: 3.6316 - val_accuracy: 0.1575\n",
            "Epoch 3/50\n",
            "391/391 [==============================] - 19s 48ms/step - loss: 3.5110 - accuracy: 0.1769 - val_loss: 3.5503 - val_accuracy: 0.1763\n",
            "Epoch 4/50\n",
            "391/391 [==============================] - 19s 49ms/step - loss: 3.3874 - accuracy: 0.2002 - val_loss: 3.4328 - val_accuracy: 0.1939\n",
            "Epoch 5/50\n",
            "391/391 [==============================] - 19s 48ms/step - loss: 3.2822 - accuracy: 0.2158 - val_loss: 3.3703 - val_accuracy: 0.2037\n",
            "Epoch 6/50\n",
            "391/391 [==============================] - 19s 47ms/step - loss: 3.1948 - accuracy: 0.2308 - val_loss: 3.3451 - val_accuracy: 0.2100\n",
            "Epoch 7/50\n",
            "391/391 [==============================] - 19s 47ms/step - loss: 3.1111 - accuracy: 0.2490 - val_loss: 3.2752 - val_accuracy: 0.2247\n",
            "Epoch 8/50\n",
            "391/391 [==============================] - 19s 48ms/step - loss: 3.0402 - accuracy: 0.2602 - val_loss: 3.2501 - val_accuracy: 0.2285\n",
            "Epoch 9/50\n",
            "391/391 [==============================] - 19s 49ms/step - loss: 2.9673 - accuracy: 0.2753 - val_loss: 3.1746 - val_accuracy: 0.2506\n",
            "Epoch 10/50\n",
            "391/391 [==============================] - 21s 54ms/step - loss: 2.8955 - accuracy: 0.2871 - val_loss: 3.1951 - val_accuracy: 0.2444\n",
            "Epoch 11/50\n",
            "391/391 [==============================] - 19s 49ms/step - loss: 2.8363 - accuracy: 0.3007 - val_loss: 3.1842 - val_accuracy: 0.2452\n",
            "Epoch 12/50\n",
            "391/391 [==============================] - 19s 49ms/step - loss: 2.7666 - accuracy: 0.3140 - val_loss: 3.1170 - val_accuracy: 0.2647\n",
            "Epoch 13/50\n",
            "391/391 [==============================] - 19s 48ms/step - loss: 2.7061 - accuracy: 0.3235 - val_loss: 3.1403 - val_accuracy: 0.2562\n",
            "Epoch 14/50\n",
            "391/391 [==============================] - 19s 48ms/step - loss: 2.6450 - accuracy: 0.3366 - val_loss: 3.1239 - val_accuracy: 0.2630\n",
            "Epoch 15/50\n",
            "391/391 [==============================] - 19s 49ms/step - loss: 2.5749 - accuracy: 0.3484 - val_loss: 3.1569 - val_accuracy: 0.2599\n",
            "Epoch 16/50\n",
            "391/391 [==============================] - 19s 48ms/step - loss: 2.5159 - accuracy: 0.3616 - val_loss: 3.1446 - val_accuracy: 0.2656\n",
            "Epoch 17/50\n",
            "391/391 [==============================] - 19s 48ms/step - loss: 2.4501 - accuracy: 0.3769 - val_loss: 3.1427 - val_accuracy: 0.2655\n",
            "Epoch 18/50\n",
            "391/391 [==============================] - 19s 48ms/step - loss: 2.3870 - accuracy: 0.3895 - val_loss: 3.1738 - val_accuracy: 0.2693\n",
            "Epoch 19/50\n",
            "391/391 [==============================] - 19s 47ms/step - loss: 2.3294 - accuracy: 0.4016 - val_loss: 3.1691 - val_accuracy: 0.2664\n",
            "Epoch 20/50\n",
            "391/391 [==============================] - 18s 47ms/step - loss: 2.2655 - accuracy: 0.4157 - val_loss: 3.1741 - val_accuracy: 0.2757\n",
            "Epoch 21/50\n",
            "391/391 [==============================] - 18s 47ms/step - loss: 2.2021 - accuracy: 0.4268 - val_loss: 3.1471 - val_accuracy: 0.2778\n",
            "Epoch 22/50\n",
            "391/391 [==============================] - 19s 47ms/step - loss: 2.1262 - accuracy: 0.4457 - val_loss: 3.2003 - val_accuracy: 0.2725\n",
            "Epoch 23/50\n",
            "391/391 [==============================] - 19s 47ms/step - loss: 2.0700 - accuracy: 0.4558 - val_loss: 3.2628 - val_accuracy: 0.2688\n",
            "Epoch 24/50\n",
            "391/391 [==============================] - 19s 48ms/step - loss: 2.0057 - accuracy: 0.4715 - val_loss: 3.2845 - val_accuracy: 0.2718\n",
            "Epoch 25/50\n",
            "391/391 [==============================] - 19s 48ms/step - loss: 1.9357 - accuracy: 0.4909 - val_loss: 3.3283 - val_accuracy: 0.2701\n",
            "Epoch 26/50\n",
            "391/391 [==============================] - 19s 48ms/step - loss: 1.8644 - accuracy: 0.5056 - val_loss: 3.3318 - val_accuracy: 0.2740\n",
            "Epoch 27/50\n",
            "391/391 [==============================] - 19s 48ms/step - loss: 1.7961 - accuracy: 0.5196 - val_loss: 3.3539 - val_accuracy: 0.2787\n",
            "Epoch 28/50\n",
            "391/391 [==============================] - 19s 48ms/step - loss: 1.7209 - accuracy: 0.5405 - val_loss: 3.4276 - val_accuracy: 0.2712\n",
            "Epoch 29/50\n",
            "391/391 [==============================] - 19s 48ms/step - loss: 1.6626 - accuracy: 0.5559 - val_loss: 3.4306 - val_accuracy: 0.2727\n",
            "Epoch 30/50\n",
            "391/391 [==============================] - 19s 48ms/step - loss: 1.5854 - accuracy: 0.5714 - val_loss: 3.5248 - val_accuracy: 0.2742\n",
            "Epoch 31/50\n",
            "391/391 [==============================] - 19s 47ms/step - loss: 1.5282 - accuracy: 0.5872 - val_loss: 3.6314 - val_accuracy: 0.2654\n",
            "Epoch 32/50\n",
            "391/391 [==============================] - 19s 47ms/step - loss: 1.4732 - accuracy: 0.5971 - val_loss: 3.6983 - val_accuracy: 0.2668\n",
            "Epoch 33/50\n",
            "391/391 [==============================] - 19s 48ms/step - loss: 1.3971 - accuracy: 0.6162 - val_loss: 3.6836 - val_accuracy: 0.2665\n",
            "Epoch 34/50\n",
            "391/391 [==============================] - 19s 49ms/step - loss: 1.3338 - accuracy: 0.6332 - val_loss: 3.7658 - val_accuracy: 0.2726\n",
            "Epoch 35/50\n",
            "391/391 [==============================] - 19s 48ms/step - loss: 1.2686 - accuracy: 0.6499 - val_loss: 3.9087 - val_accuracy: 0.2574\n",
            "Epoch 36/50\n",
            "391/391 [==============================] - 19s 47ms/step - loss: 1.2092 - accuracy: 0.6671 - val_loss: 3.9164 - val_accuracy: 0.2722\n",
            "Epoch 37/50\n",
            "391/391 [==============================] - 19s 47ms/step - loss: 1.1474 - accuracy: 0.6809 - val_loss: 3.9107 - val_accuracy: 0.2658\n",
            "Epoch 38/50\n",
            "391/391 [==============================] - 19s 48ms/step - loss: 1.0768 - accuracy: 0.7008 - val_loss: 4.0177 - val_accuracy: 0.2699\n",
            "Epoch 39/50\n",
            "391/391 [==============================] - 19s 48ms/step - loss: 1.0237 - accuracy: 0.7145 - val_loss: 4.1402 - val_accuracy: 0.2622\n",
            "Epoch 40/50\n",
            "391/391 [==============================] - 19s 48ms/step - loss: 0.9664 - accuracy: 0.7297 - val_loss: 4.1892 - val_accuracy: 0.2614\n",
            "Epoch 41/50\n",
            "391/391 [==============================] - 19s 48ms/step - loss: 0.9087 - accuracy: 0.7441 - val_loss: 4.2988 - val_accuracy: 0.2619\n",
            "Epoch 42/50\n",
            "391/391 [==============================] - 19s 48ms/step - loss: 0.8571 - accuracy: 0.7609 - val_loss: 4.4478 - val_accuracy: 0.2611\n",
            "Epoch 43/50\n",
            "391/391 [==============================] - 19s 48ms/step - loss: 0.8108 - accuracy: 0.7705 - val_loss: 4.4669 - val_accuracy: 0.2661\n",
            "Epoch 44/50\n",
            "391/391 [==============================] - 19s 48ms/step - loss: 0.7625 - accuracy: 0.7838 - val_loss: 4.6418 - val_accuracy: 0.2589\n",
            "Epoch 45/50\n",
            "391/391 [==============================] - 19s 48ms/step - loss: 0.7008 - accuracy: 0.8014 - val_loss: 4.6288 - val_accuracy: 0.2639\n",
            "Epoch 46/50\n",
            "391/391 [==============================] - 19s 48ms/step - loss: 0.6667 - accuracy: 0.8134 - val_loss: 4.7896 - val_accuracy: 0.2605\n",
            "Epoch 47/50\n",
            "391/391 [==============================] - 19s 48ms/step - loss: 0.6236 - accuracy: 0.8248 - val_loss: 4.8960 - val_accuracy: 0.2681\n",
            "Epoch 48/50\n",
            "391/391 [==============================] - 19s 48ms/step - loss: 0.5740 - accuracy: 0.8398 - val_loss: 4.9527 - val_accuracy: 0.2634\n",
            "Epoch 49/50\n",
            "391/391 [==============================] - 19s 48ms/step - loss: 0.5432 - accuracy: 0.8491 - val_loss: 5.0040 - val_accuracy: 0.2626\n",
            "Epoch 50/50\n",
            "391/391 [==============================] - 19s 47ms/step - loss: 0.4968 - accuracy: 0.8617 - val_loss: 5.1087 - val_accuracy: 0.2683\n"
          ]
        }
      ]
    },
    {
      "cell_type": "code",
      "source": [
        "model.evaluate(x_test, y_test)"
      ],
      "metadata": {
        "colab": {
          "base_uri": "https://localhost:8080/"
        },
        "id": "kfIodtPGc3aG",
        "outputId": "a12edd3b-efba-4738-fb34-9ed291e53ea4"
      },
      "execution_count": 6,
      "outputs": [
        {
          "output_type": "stream",
          "name": "stdout",
          "text": [
            "313/313 [==============================] - 3s 9ms/step - loss: 5.1087 - accuracy: 0.2683\n"
          ]
        },
        {
          "output_type": "execute_result",
          "data": {
            "text/plain": [
              "[5.108741760253906, 0.26829999685287476]"
            ]
          },
          "metadata": {},
          "execution_count": 6
        }
      ]
    },
    {
      "cell_type": "code",
      "source": [
        "import matplotlib.pyplot as plt\n",
        "\n",
        "plt.plot(history.history[\"accuracy\"])\n",
        "plt.plot(history.history[\"val_accuracy\"])\n",
        "plt.title(\"Model accuracy\")\n",
        "plt.xlabel(\"epoch\")\n",
        "plt.ylabel(\"accuracy\")\n",
        "plt.legend([\"train\", \"validation\"], loc = \"upper left\")"
      ],
      "metadata": {
        "colab": {
          "base_uri": "https://localhost:8080/",
          "height": 313
        },
        "id": "SXkwXrcIc7a4",
        "outputId": "8976f2e9-707c-462f-c858-5b6813f09a62"
      },
      "execution_count": 7,
      "outputs": [
        {
          "output_type": "execute_result",
          "data": {
            "text/plain": [
              "<matplotlib.legend.Legend at 0x7f66d569ce50>"
            ]
          },
          "metadata": {},
          "execution_count": 7
        },
        {
          "output_type": "display_data",
          "data": {
            "text/plain": [
              "<Figure size 432x288 with 1 Axes>"
            ],
            "image/png": "[encoded data removed]"
          },
          "metadata": {
            "needs_background": "light"
          }
        }
      ]
    },
    {
      "cell_type": "code",
      "source": [
        "model.save (\"nhandien100vat.h5\")"
      ],
      "metadata": {
        "id": "I5jYBLU9c_1a"
      },
      "execution_count": 8,
      "outputs": []
    },
    {
      "cell_type": "code",
      "source": [
        ""
      ],
      "metadata": {
        "id": "aAhUDdivdbrH"
      },
      "execution_count": null,
      "outputs": []
    }
  ]
}