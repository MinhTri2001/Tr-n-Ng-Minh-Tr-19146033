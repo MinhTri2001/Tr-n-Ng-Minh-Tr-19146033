{
  "nbformat": 4,
  "nbformat_minor": 0,
  "metadata": {
    "colab": {
      "name": "nhandang10vat.ipynb",
      "provenance": []
    },
    "kernelspec": {
      "name": "python3",
      "display_name": "Python 3"
    },
    "language_info": {
      "name": "python"
    }
  },
  "cells": [
    {
      "cell_type": "code",
      "execution_count": 1,
      "metadata": {
        "id": "sDtml4Yju5sF"
      },
      "outputs": [],
      "source": [
        "from keras.datasets import cifar10\n",
        "from matplotlib import pyplot as plt\n",
        "import numpy as np\n",
        "from tensorflow.keras.utils import to_categorical\n",
        "from keras.models import Sequential \n",
        "from keras.utils import np_utils\n",
        "from keras.layers import Dense,Activation,Dropout,LSTM,BatchNormalization\n",
        "from keras.layers import Flatten\n",
        "from tensorflow.keras.optimizers import SGD\n",
        "from tensorflow.keras.utils import load_img,img_to_array\n",
        "from tensorflow.keras.models import load_model"
      ]
    },
    {
      "cell_type": "code",
      "source": [
        "import tensorflow as tf \n",
        "(x_train,y_train),(x_test,y_test)=tf.keras.datasets.cifar10.load_data()"
      ],
      "metadata": {
        "colab": {
          "base_uri": "https://localhost:8080/"
        },
        "id": "51ybQBpIu-Wx",
        "outputId": "b3c73d39-d2db-4974-a91e-75aae598f039"
      },
      "execution_count": 5,
      "outputs": [
        {
          "output_type": "stream",
          "name": "stdout",
          "text": [
            "Downloading data from https://www.cs.toronto.edu/~kriz/cifar-10-python.tar.gz\n",
            "170500096/170498071 [==============================] - 4s 0us/step\n",
            "170508288/170498071 [==============================] - 4s 0us/step\n"
          ]
        }
      ]
    },
    {
      "cell_type": "code",
      "source": [
        "from tensorflow.keras.utils import to_categorical\n",
        "x_train=x_train.astype('float32')\n",
        "x_test=x_test.astype('float32')\n",
        "x_train/=255\n",
        "x_test/=255\n",
        "y_train=to_categorical(y_train)\n",
        "y_test=to_categorical(y_test)"
      ],
      "metadata": {
        "id": "52q4Km04vAX1"
      },
      "execution_count": 6,
      "outputs": []
    },
    {
      "cell_type": "code",
      "source": [
        "model = Sequential()\n",
        "model.add(Flatten(input_shape=(32,32,3)))\n",
        "model.add(Dense(784,activation='relu'))\n",
        "model.add(Dense(784,activation='relu'))\n",
        "model.add(Dense(10,activation='Softmax'))\n",
        "model.summary()"
      ],
      "metadata": {
        "colab": {
          "base_uri": "https://localhost:8080/"
        },
        "id": "4ZYuUdZdvBw8",
        "outputId": "fb2f8212-18b1-4c93-d043-14b67eea4367"
      },
      "execution_count": 7,
      "outputs": [
        {
          "output_type": "stream",
          "name": "stdout",
          "text": [
            "Model: \"sequential\"\n",
            "_________________________________________________________________\n",
            " Layer (type)                Output Shape              Param #   \n",
            "=================================================================\n",
            " flatten (Flatten)           (None, 3072)              0         \n",
            "                                                                 \n",
            " dense (Dense)               (None, 784)               2409232   \n",
            "                                                                 \n",
            " dense_1 (Dense)             (None, 784)               615440    \n",
            "                                                                 \n",
            " dense_2 (Dense)             (None, 10)                7850      \n",
            "                                                                 \n",
            "=================================================================\n",
            "Total params: 3,032,522\n",
            "Trainable params: 3,032,522\n",
            "Non-trainable params: 0\n",
            "_________________________________________________________________\n"
          ]
        }
      ]
    },
    {
      "cell_type": "code",
      "source": [
        "opt=SGD(learning_rate=0.01,momentum=0.9)\n",
        "model.compile(loss='categorical_crossentropy',optimizer=opt,metrics=['accuracy'])\n",
        "history = model.fit(x_train,y_train,batch_size=128,epochs=50,verbose=1,validation_data=(x_test,y_test))"
      ],
      "metadata": {
        "colab": {
          "base_uri": "https://localhost:8080/"
        },
        "id": "JYfuwz6fvDJi",
        "outputId": "7cf807ae-b6e0-48fe-eaea-4dd3460cd5d6"
      },
      "execution_count": 8,
      "outputs": [
        {
          "output_type": "stream",
          "name": "stdout",
          "text": [
            "Epoch 1/50\n",
            "391/391 [==============================] - 18s 44ms/step - loss: 1.8215 - accuracy: 0.3471 - val_loss: 1.6703 - val_accuracy: 0.4021\n",
            "Epoch 2/50\n",
            "391/391 [==============================] - 17s 44ms/step - loss: 1.6235 - accuracy: 0.4243 - val_loss: 1.5566 - val_accuracy: 0.4489\n",
            "Epoch 3/50\n",
            "391/391 [==============================] - 18s 46ms/step - loss: 1.5405 - accuracy: 0.4529 - val_loss: 1.4680 - val_accuracy: 0.4794\n",
            "Epoch 4/50\n",
            "391/391 [==============================] - 17s 44ms/step - loss: 1.4780 - accuracy: 0.4741 - val_loss: 1.4883 - val_accuracy: 0.4665\n",
            "Epoch 5/50\n",
            "391/391 [==============================] - 17s 44ms/step - loss: 1.4343 - accuracy: 0.4900 - val_loss: 1.4403 - val_accuracy: 0.4954\n",
            "Epoch 6/50\n",
            "391/391 [==============================] - 17s 44ms/step - loss: 1.4000 - accuracy: 0.5026 - val_loss: 1.3905 - val_accuracy: 0.5080\n",
            "Epoch 7/50\n",
            "391/391 [==============================] - 17s 44ms/step - loss: 1.3497 - accuracy: 0.5203 - val_loss: 1.4217 - val_accuracy: 0.4966\n",
            "Epoch 8/50\n",
            "391/391 [==============================] - 17s 44ms/step - loss: 1.3133 - accuracy: 0.5323 - val_loss: 1.3636 - val_accuracy: 0.5154\n",
            "Epoch 9/50\n",
            "391/391 [==============================] - 19s 47ms/step - loss: 1.2858 - accuracy: 0.5445 - val_loss: 1.3996 - val_accuracy: 0.5013\n",
            "Epoch 10/50\n",
            "391/391 [==============================] - 17s 44ms/step - loss: 1.2568 - accuracy: 0.5534 - val_loss: 1.3831 - val_accuracy: 0.5074\n",
            "Epoch 11/50\n",
            "391/391 [==============================] - 17s 45ms/step - loss: 1.2188 - accuracy: 0.5691 - val_loss: 1.3970 - val_accuracy: 0.5081\n",
            "Epoch 12/50\n",
            "391/391 [==============================] - 18s 46ms/step - loss: 1.1928 - accuracy: 0.5777 - val_loss: 1.3607 - val_accuracy: 0.5175\n",
            "Epoch 13/50\n",
            "391/391 [==============================] - 17s 44ms/step - loss: 1.1694 - accuracy: 0.5847 - val_loss: 1.3674 - val_accuracy: 0.5188\n",
            "Epoch 14/50\n",
            "391/391 [==============================] - 17s 44ms/step - loss: 1.1405 - accuracy: 0.5948 - val_loss: 1.3554 - val_accuracy: 0.5219\n",
            "Epoch 15/50\n",
            "391/391 [==============================] - 17s 44ms/step - loss: 1.1042 - accuracy: 0.6102 - val_loss: 1.3193 - val_accuracy: 0.5288\n",
            "Epoch 16/50\n",
            "391/391 [==============================] - 17s 44ms/step - loss: 1.0768 - accuracy: 0.6203 - val_loss: 1.3492 - val_accuracy: 0.5301\n",
            "Epoch 17/50\n",
            "391/391 [==============================] - 17s 44ms/step - loss: 1.0495 - accuracy: 0.6290 - val_loss: 1.3324 - val_accuracy: 0.5353\n",
            "Epoch 18/50\n",
            "391/391 [==============================] - 17s 44ms/step - loss: 1.0236 - accuracy: 0.6390 - val_loss: 1.3090 - val_accuracy: 0.5446\n",
            "Epoch 19/50\n",
            "391/391 [==============================] - 17s 44ms/step - loss: 0.9949 - accuracy: 0.6490 - val_loss: 1.3304 - val_accuracy: 0.5383\n",
            "Epoch 20/50\n",
            "391/391 [==============================] - 17s 44ms/step - loss: 0.9635 - accuracy: 0.6605 - val_loss: 1.3369 - val_accuracy: 0.5411\n",
            "Epoch 21/50\n",
            "391/391 [==============================] - 17s 44ms/step - loss: 0.9440 - accuracy: 0.6696 - val_loss: 1.3431 - val_accuracy: 0.5374\n",
            "Epoch 22/50\n",
            "391/391 [==============================] - 17s 44ms/step - loss: 0.9139 - accuracy: 0.6796 - val_loss: 1.3535 - val_accuracy: 0.5376\n",
            "Epoch 23/50\n",
            "391/391 [==============================] - 17s 44ms/step - loss: 0.8914 - accuracy: 0.6837 - val_loss: 1.3470 - val_accuracy: 0.5431\n",
            "Epoch 24/50\n",
            "391/391 [==============================] - 17s 44ms/step - loss: 0.8618 - accuracy: 0.6961 - val_loss: 1.3687 - val_accuracy: 0.5437\n",
            "Epoch 25/50\n",
            "391/391 [==============================] - 17s 44ms/step - loss: 0.8332 - accuracy: 0.7054 - val_loss: 1.3690 - val_accuracy: 0.5419\n",
            "Epoch 26/50\n",
            "391/391 [==============================] - 17s 43ms/step - loss: 0.8103 - accuracy: 0.7146 - val_loss: 1.3854 - val_accuracy: 0.5463\n",
            "Epoch 27/50\n",
            "391/391 [==============================] - 17s 44ms/step - loss: 0.7787 - accuracy: 0.7253 - val_loss: 1.3893 - val_accuracy: 0.5483\n",
            "Epoch 28/50\n",
            "391/391 [==============================] - 17s 44ms/step - loss: 0.7484 - accuracy: 0.7373 - val_loss: 1.4243 - val_accuracy: 0.5452\n",
            "Epoch 29/50\n",
            "391/391 [==============================] - 17s 44ms/step - loss: 0.7162 - accuracy: 0.7487 - val_loss: 1.4108 - val_accuracy: 0.5577\n",
            "Epoch 30/50\n",
            "391/391 [==============================] - 17s 44ms/step - loss: 0.6965 - accuracy: 0.7528 - val_loss: 1.5200 - val_accuracy: 0.5377\n",
            "Epoch 31/50\n",
            "391/391 [==============================] - 17s 44ms/step - loss: 0.6735 - accuracy: 0.7621 - val_loss: 1.4558 - val_accuracy: 0.5504\n",
            "Epoch 32/50\n",
            "391/391 [==============================] - 17s 44ms/step - loss: 0.6330 - accuracy: 0.7762 - val_loss: 1.4484 - val_accuracy: 0.5555\n",
            "Epoch 33/50\n",
            "391/391 [==============================] - 17s 44ms/step - loss: 0.6164 - accuracy: 0.7804 - val_loss: 1.4811 - val_accuracy: 0.5544\n",
            "Epoch 34/50\n",
            "391/391 [==============================] - 17s 44ms/step - loss: 0.5880 - accuracy: 0.7926 - val_loss: 1.5177 - val_accuracy: 0.5510\n",
            "Epoch 35/50\n",
            "391/391 [==============================] - 17s 44ms/step - loss: 0.5652 - accuracy: 0.8003 - val_loss: 1.5474 - val_accuracy: 0.5456\n",
            "Epoch 36/50\n",
            "391/391 [==============================] - 17s 44ms/step - loss: 0.5330 - accuracy: 0.8125 - val_loss: 1.6417 - val_accuracy: 0.5411\n",
            "Epoch 37/50\n",
            "391/391 [==============================] - 17s 45ms/step - loss: 0.5018 - accuracy: 0.8248 - val_loss: 1.6330 - val_accuracy: 0.5491\n",
            "Epoch 38/50\n",
            "391/391 [==============================] - 17s 44ms/step - loss: 0.4863 - accuracy: 0.8295 - val_loss: 1.5851 - val_accuracy: 0.5528\n",
            "Epoch 39/50\n",
            "391/391 [==============================] - 17s 44ms/step - loss: 0.4630 - accuracy: 0.8413 - val_loss: 1.6167 - val_accuracy: 0.5471\n",
            "Epoch 40/50\n",
            "391/391 [==============================] - 17s 44ms/step - loss: 0.4228 - accuracy: 0.8539 - val_loss: 1.6583 - val_accuracy: 0.5485\n",
            "Epoch 41/50\n",
            "391/391 [==============================] - 17s 44ms/step - loss: 0.4070 - accuracy: 0.8612 - val_loss: 1.7063 - val_accuracy: 0.5467\n",
            "Epoch 42/50\n",
            "391/391 [==============================] - 17s 45ms/step - loss: 0.3925 - accuracy: 0.8642 - val_loss: 1.7907 - val_accuracy: 0.5367\n",
            "Epoch 43/50\n",
            "391/391 [==============================] - 18s 46ms/step - loss: 0.3758 - accuracy: 0.8704 - val_loss: 1.7807 - val_accuracy: 0.5435\n",
            "Epoch 44/50\n",
            "391/391 [==============================] - 21s 53ms/step - loss: 0.3538 - accuracy: 0.8789 - val_loss: 1.7886 - val_accuracy: 0.5518\n",
            "Epoch 45/50\n",
            "391/391 [==============================] - 21s 53ms/step - loss: 0.3410 - accuracy: 0.8819 - val_loss: 1.8014 - val_accuracy: 0.5490\n",
            "Epoch 46/50\n",
            "391/391 [==============================] - 17s 44ms/step - loss: 0.3023 - accuracy: 0.8985 - val_loss: 1.9476 - val_accuracy: 0.5382\n",
            "Epoch 47/50\n",
            "391/391 [==============================] - 17s 44ms/step - loss: 0.3031 - accuracy: 0.8956 - val_loss: 1.8877 - val_accuracy: 0.5494\n",
            "Epoch 48/50\n",
            "391/391 [==============================] - 17s 45ms/step - loss: 0.2834 - accuracy: 0.9041 - val_loss: 1.9574 - val_accuracy: 0.5454\n",
            "Epoch 49/50\n",
            "391/391 [==============================] - 17s 44ms/step - loss: 0.2650 - accuracy: 0.9105 - val_loss: 2.0350 - val_accuracy: 0.5386\n",
            "Epoch 50/50\n",
            "391/391 [==============================] - 18s 46ms/step - loss: 0.2562 - accuracy: 0.9142 - val_loss: 2.0220 - val_accuracy: 0.5475\n"
          ]
        }
      ]
    },
    {
      "cell_type": "code",
      "source": [
        "model.evaluate(x_test,y_test)"
      ],
      "metadata": {
        "colab": {
          "base_uri": "https://localhost:8080/"
        },
        "id": "9YJZpehwUXE1",
        "outputId": "87929ad8-664f-4f56-a433-3721e39b2257"
      },
      "execution_count": 10,
      "outputs": [
        {
          "output_type": "stream",
          "name": "stdout",
          "text": [
            "313/313 [==============================] - 3s 8ms/step - loss: 2.0220 - accuracy: 0.5475\n"
          ]
        },
        {
          "output_type": "execute_result",
          "data": {
            "text/plain": [
              "[2.0220229625701904, 0.5475000143051147]"
            ]
          },
          "metadata": {},
          "execution_count": 10
        }
      ]
    },
    {
      "cell_type": "code",
      "source": [
        "img=load_img('xehoi.jfif',target_size=(32,32))\n",
        "img=img_to_array(img)\n",
        "img=img.reshape(1,32,32,3)\n",
        "img=img.astype('float32')\n",
        "img=img/255\n",
        "np.argmax(model.predict(img),axis=1)"
      ],
      "metadata": {
        "id": "YK_o4JDQUadZ"
      },
      "execution_count": null,
      "outputs": []
    },
    {
      "cell_type": "code",
      "source": [
        "import matplotlib.pyplot as plt\n",
        "\n",
        "plt.plot(history.history[\"accuracy\"])\n",
        "plt.plot(history.history[\"val_accuracy\"])\n",
        "plt.title(\"Model accuracy\")\n",
        "plt.xlabel(\"epoch\")\n",
        "plt.ylabel(\"accuracy\")\n",
        "plt.legend([\"train\", \"validation\"], loc = \"upper left\")"
      ],
      "metadata": {
        "colab": {
          "base_uri": "https://localhost:8080/",
          "height": 313
        },
        "id": "BxDx4T-yVPGU",
        "outputId": "46f37704-840e-4712-cea6-d0e7989c9047"
      },
      "execution_count": 12,
      "outputs": [
        {
          "output_type": "execute_result",
          "data": {
            "text/plain": [
              "<matplotlib.legend.Legend at 0x7f2dd570eed0>"
            ]
          },
          "metadata": {},
          "execution_count": 12
        },
        {
          "output_type": "display_data",
          "data": {
            "text/plain": [
              "<Figure size 432x288 with 1 Axes>"
            ],
            "image/png": "[encoded data removed]"
          },
          "metadata": {
            "needs_background": "light"
          }
        }
      ]
    },
    {
      "cell_type": "code",
      "source": [
        "model.save('nhandien10vat.h5')"
      ],
      "metadata": {
        "id": "tl0jR9X4Udh9"
      },
      "execution_count": null,
      "outputs": []
    }
  ]
}