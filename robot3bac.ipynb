{
  "nbformat": 4,
  "nbformat_minor": 0,
  "metadata": {
    "colab": {
      "name": "robot3bac.ipynb",
      "provenance": [],
      "collapsed_sections": []
    },
    "kernelspec": {
      "name": "python3",
      "display_name": "Python 3"
    },
    "language_info": {
      "name": "python"
    }
  },
  "cells": [
    {
      "cell_type": "code",
      "source": [
        "import csv\n",
        "import math as m\n",
        "l1 = 50\n",
        "l2 = 40\n",
        "l3 = 20\n",
        "with open('datarobot2.csv', mode='w') as file:\n",
        "    writer = csv.writer(file)\n",
        "    writer.writerow(['tt1','tt2','tt3','Px', 'Py','phi'])\n",
        "\n",
        "    for tt1 in range (-180 , 180,2):\n",
        "        for tt2 in range (-180, 180,2):\n",
        "            for tt3 in range (-180,180,2):\n",
        "                tt1 = (tt1*m.pi)/180\n",
        "                tt2 = (tt2*m.pi)/180\n",
        "                tt3 = (tt3*m.pi)/180\n",
        "                Px = l1*m.cos(tt1) + l2*m.cos(tt1+tt2) + l3*m.cos(tt1 + tt2 + tt3)\n",
        "                Py = l1*m.sin(tt1) + l2*m.sin(tt1+tt2) + l3*m.sin(tt1 + tt2 + tt3)\n",
        "                phi = tt1 + tt2 + tt3\n",
        "                writer.writerow([tt1,tt2,tt3,Px,Py,phi])"
      ],
      "metadata": {
        "id": "5svKtiRdvya8"
      },
      "execution_count": 1,
      "outputs": []
    },
    {
      "cell_type": "code",
      "execution_count": 2,
      "metadata": {
        "colab": {
          "base_uri": "https://localhost:8080/"
        },
        "id": "2sSucMI7s2gd",
        "outputId": "5bfeb992-dd55-4e57-f58b-007fce64478f"
      },
      "outputs": [
        {
          "output_type": "stream",
          "name": "stdout",
          "text": [
            "Model: \"sequential\"\n",
            "_________________________________________________________________\n",
            " Layer (type)                Output Shape              Param #   \n",
            "=================================================================\n",
            " dense (Dense)               (None, 512)               1536      \n",
            "                                                                 \n",
            " dense_1 (Dense)             (None, 100)               51300     \n",
            "                                                                 \n",
            " dense_2 (Dense)             (None, 50)                5050      \n",
            "                                                                 \n",
            " dense_3 (Dense)             (None, 3)                 153       \n",
            "                                                                 \n",
            "=================================================================\n",
            "Total params: 58,039\n",
            "Trainable params: 58,039\n",
            "Non-trainable params: 0\n",
            "_________________________________________________________________\n",
            "None\n"
          ]
        }
      ],
      "source": [
        "from keras.models import Sequential\n",
        "from keras.layers import Dense, Activation, Dropout, Flatten, MaxPooling2D\n",
        "\n",
        "model = Sequential()\n",
        "model.add(Dense(512,activation='relu',input_shape=(2,)))\n",
        "\n",
        "model.add(Dense(100,activation='relu'))\n",
        "\n",
        "\n",
        "model.add(Dense(50,activation='relu'))\n",
        "\n",
        "model.add(Dense(3,activation='Softmax'))\n",
        "print(model.summary())"
      ]
    },
    {
      "cell_type": "code",
      "source": [
        "import pandas as pd\n",
        "from sklearn.model_selection import train_test_split\n",
        "import numpy as np\n",
        "data = pd.read_csv('datarobot2.csv')\n",
        "\n",
        "y = data.drop(data.columns[3:],axis = 1)\n",
        "x = data[['Px','Py']]\n",
        "x_train,x_test,y_train,y_test = train_test_split(x,y,test_size=0.2, random_state=7)\n",
        "x_train"
      ],
      "metadata": {
        "colab": {
          "base_uri": "https://localhost:8080/",
          "height": 423
        },
        "id": "IfNzI8j9tJSa",
        "outputId": "d9f2c03b-d355-4d39-d9a8-53252177c614"
      },
      "execution_count": 3,
      "outputs": [
        {
          "output_type": "execute_result",
          "data": {
            "text/plain": [
              "                 Px         Py\n",
              "544022   101.183858 -16.580751\n",
              "2347139  100.598385  16.960962\n",
              "2378986  106.960962  10.598385\n",
              "5582706   70.437048  -4.158234\n",
              "5367950   71.206148   6.840403\n",
              "...             ...        ...\n",
              "3905091   70.978870   6.180340\n",
              "2632182   87.909431 -19.890438\n",
              "2671129  105.760215  12.313230\n",
              "3335364   83.819660  19.021130\n",
              "585903    70.109533  -2.090849\n",
              "\n",
              "[4665600 rows x 2 columns]"
            ],
            "text/html": [
              "\n",
              "  <div id=\"df-529e5bd3-45d4-42b1-ba2a-69bc41cf9369\">\n",
              "    <div class=\"colab-df-container\">\n",
              "      <div>\n",
              "<style scoped>\n",
              "    .dataframe tbody tr th:only-of-type {\n",
              "        vertical-align: middle;\n",
              "    }\n",
              "\n",
              "    .dataframe tbody tr th {\n",
              "        vertical-align: top;\n",
              "    }\n",
              "\n",
              "    .dataframe thead th {\n",
              "        text-align: right;\n",
              "    }\n",
              "</style>\n",
              "<table border=\"1\" class=\"dataframe\">\n",
              "  <thead>\n",
              "    <tr style=\"text-align: right;\">\n",
              "      <th></th>\n",
              "      <th>Px</th>\n",
              "      <th>Py</th>\n",
              "    </tr>\n",
              "  </thead>\n",
              "  <tbody>\n",
              "    <tr>\n",
              "      <th>544022</th>\n",
              "      <td>101.183858</td>\n",
              "      <td>-16.580751</td>\n",
              "    </tr>\n",
              "    <tr>\n",
              "      <th>2347139</th>\n",
              "      <td>100.598385</td>\n",
              "      <td>16.960962</td>\n",
              "    </tr>\n",
              "    <tr>\n",
              "      <th>2378986</th>\n",
              "      <td>106.960962</td>\n",
              "      <td>10.598385</td>\n",
              "    </tr>\n",
              "    <tr>\n",
              "      <th>5582706</th>\n",
              "      <td>70.437048</td>\n",
              "      <td>-4.158234</td>\n",
              "    </tr>\n",
              "    <tr>\n",
              "      <th>5367950</th>\n",
              "      <td>71.206148</td>\n",
              "      <td>6.840403</td>\n",
              "    </tr>\n",
              "    <tr>\n",
              "      <th>...</th>\n",
              "      <td>...</td>\n",
              "      <td>...</td>\n",
              "    </tr>\n",
              "    <tr>\n",
              "      <th>3905091</th>\n",
              "      <td>70.978870</td>\n",
              "      <td>6.180340</td>\n",
              "    </tr>\n",
              "    <tr>\n",
              "      <th>2632182</th>\n",
              "      <td>87.909431</td>\n",
              "      <td>-19.890438</td>\n",
              "    </tr>\n",
              "    <tr>\n",
              "      <th>2671129</th>\n",
              "      <td>105.760215</td>\n",
              "      <td>12.313230</td>\n",
              "    </tr>\n",
              "    <tr>\n",
              "      <th>3335364</th>\n",
              "      <td>83.819660</td>\n",
              "      <td>19.021130</td>\n",
              "    </tr>\n",
              "    <tr>\n",
              "      <th>585903</th>\n",
              "      <td>70.109533</td>\n",
              "      <td>-2.090849</td>\n",
              "    </tr>\n",
              "  </tbody>\n",
              "</table>\n",
              "<p>4665600 rows × 2 columns</p>\n",
              "</div>\n",
              "      <button class=\"colab-df-convert\" onclick=\"convertToInteractive('df-529e5bd3-45d4-42b1-ba2a-69bc41cf9369')\"\n",
              "              title=\"Convert this dataframe to an interactive table.\"\n",
              "              style=\"display:none;\">\n",
              "        \n",
              "  <svg xmlns=\"http://www.w3.org/2000/svg\" height=\"24px\"viewBox=\"0 0 24 24\"\n",
              "       width=\"24px\">\n",
              "    <path d=\"M0 0h24v24H0V0z\" fill=\"none\"/>\n",
              "    <path d=\"M18.56 5.44l.94 2.06.94-2.06 2.06-.94-2.06-.94-.94-2.06-.94 2.06-2.06.94zm-11 1L8.5 8.5l.94-2.06 2.06-.94-2.06-.94L8.5 2.5l-.94 2.06-2.06.94zm10 10l.94 2.06.94-2.06 2.06-.94-2.06-.94-.94-2.06-.94 2.06-2.06.94z\"/><path d=\"M17.41 7.96l-1.37-1.37c-.4-.4-.92-.59-1.43-.59-.52 0-1.04.2-1.43.59L10.3 9.45l-7.72 7.72c-.78.78-.78 2.05 0 2.83L4 21.41c.39.39.9.59 1.41.59.51 0 1.02-.2 1.41-.59l7.78-7.78 2.81-2.81c.8-.78.8-2.07 0-2.86zM5.41 20L4 18.59l7.72-7.72 1.47 1.35L5.41 20z\"/>\n",
              "  </svg>\n",
              "      </button>\n",
              "      \n",
              "  <style>\n",
              "    .colab-df-container {\n",
              "      display:flex;\n",
              "      flex-wrap:wrap;\n",
              "      gap: 12px;\n",
              "    }\n",
              "\n",
              "    .colab-df-convert {\n",
              "      background-color: #E8F0FE;\n",
              "      border: none;\n",
              "      border-radius: 50%;\n",
              "      cursor: pointer;\n",
              "      display: none;\n",
              "      fill: #1967D2;\n",
              "      height: 32px;\n",
              "      padding: 0 0 0 0;\n",
              "      width: 32px;\n",
              "    }\n",
              "\n",
              "    .colab-df-convert:hover {\n",
              "      background-color: #E2EBFA;\n",
              "      box-shadow: 0px 1px 2px rgba(60, 64, 67, 0.3), 0px 1px 3px 1px rgba(60, 64, 67, 0.15);\n",
              "      fill: #174EA6;\n",
              "    }\n",
              "\n",
              "    [theme=dark] .colab-df-convert {\n",
              "      background-color: #3B4455;\n",
              "      fill: #D2E3FC;\n",
              "    }\n",
              "\n",
              "    [theme=dark] .colab-df-convert:hover {\n",
              "      background-color: #434B5C;\n",
              "      box-shadow: 0px 1px 3px 1px rgba(0, 0, 0, 0.15);\n",
              "      filter: drop-shadow(0px 1px 2px rgba(0, 0, 0, 0.3));\n",
              "      fill: #FFFFFF;\n",
              "    }\n",
              "  </style>\n",
              "\n",
              "      <script>\n",
              "        const buttonEl =\n",
              "          document.querySelector('#df-529e5bd3-45d4-42b1-ba2a-69bc41cf9369 button.colab-df-convert');\n",
              "        buttonEl.style.display =\n",
              "          google.colab.kernel.accessAllowed ? 'block' : 'none';\n",
              "\n",
              "        async function convertToInteractive(key) {\n",
              "          const element = document.querySelector('#df-529e5bd3-45d4-42b1-ba2a-69bc41cf9369');\n",
              "          const dataTable =\n",
              "            await google.colab.kernel.invokeFunction('convertToInteractive',\n",
              "                                                     [key], {});\n",
              "          if (!dataTable) return;\n",
              "\n",
              "          const docLinkHtml = 'Like what you see? Visit the ' +\n",
              "            '<a target=\"_blank\" href=https://colab.research.google.com/notebooks/data_table.ipynb>data table notebook</a>'\n",
              "            + ' to learn more about interactive tables.';\n",
              "          element.innerHTML = '';\n",
              "          dataTable['output_type'] = 'display_data';\n",
              "          await google.colab.output.renderOutput(dataTable, element);\n",
              "          const docLink = document.createElement('div');\n",
              "          docLink.innerHTML = docLinkHtml;\n",
              "          element.appendChild(docLink);\n",
              "        }\n",
              "      </script>\n",
              "    </div>\n",
              "  </div>\n",
              "  "
            ]
          },
          "metadata": {},
          "execution_count": 3
        }
      ]
    },
    {
      "cell_type": "code",
      "source": [
        "from tensorflow.keras.optimizers import RMSprop\n",
        "from keras.callbacks import EarlyStopping\n",
        "model.compile(loss='mse',optimizer=RMSprop(),metrics=['accuracy'])\n",
        "history = model.fit(x_train,y_train,batch_size = 128,epochs=1,verbose=1,callbacks=[EarlyStopping(monitor='val_loss',patience=20)],validation_data = (x_test, y_test))"
      ],
      "metadata": {
        "colab": {
          "base_uri": "https://localhost:8080/"
        },
        "id": "Nm3O-HB5tj6T",
        "outputId": "25ff2fe2-e5a6-4251-b41f-2d07c6ae2d9c"
      },
      "execution_count": 4,
      "outputs": [
        {
          "output_type": "stream",
          "name": "stdout",
          "text": [
            "36450/36450 [==============================] - 154s 4ms/step - loss: 0.8415 - accuracy: 0.7339 - val_loss: 0.8400 - val_accuracy: 0.9360\n"
          ]
        }
      ]
    },
    {
      "cell_type": "code",
      "source": [
        "model.evaluate(x_test, y_test)"
      ],
      "metadata": {
        "colab": {
          "base_uri": "https://localhost:8080/"
        },
        "id": "f3jv0PN0IFsY",
        "outputId": "2791fb6e-7bac-444c-918d-c2ebb957cc8b"
      },
      "execution_count": 5,
      "outputs": [
        {
          "output_type": "stream",
          "name": "stdout",
          "text": [
            "36450/36450 [==============================] - 70s 2ms/step - loss: 0.8400 - accuracy: 0.9360\n"
          ]
        },
        {
          "output_type": "execute_result",
          "data": {
            "text/plain": [
              "[0.8400434851646423, 0.9359996318817139]"
            ]
          },
          "metadata": {},
          "execution_count": 5
        }
      ]
    },
    {
      "cell_type": "code",
      "source": [
        "model.save(\"robot3bac.h5\")"
      ],
      "metadata": {
        "id": "8eD8eSthJ2N9"
      },
      "execution_count": 6,
      "outputs": []
    },
    {
      "cell_type": "code",
      "source": [
        "import matplotlib.pyplot as plt\n",
        "\n",
        "plt.plot(history.history[\"accuracy\"])\n",
        "plt.plot(history.history[\"val_accuracy\"])\n",
        "plt.title(\"Model accuracy\")\n",
        "plt.xlabel(\"epoch\")\n",
        "plt.ylabel(\"accuracy\")\n",
        "plt.legend([\"train\", \"validation\"], loc = \"upper left\")"
      ],
      "metadata": {
        "colab": {
          "base_uri": "https://localhost:8080/",
          "height": 313
        },
        "id": "NrM_GGfqsGgn",
        "outputId": "015bf95c-9427-497c-d084-61a095848d7f"
      },
      "execution_count": 8,
      "outputs": [
        {
          "output_type": "execute_result",
          "data": {
            "text/plain": [
              "<matplotlib.legend.Legend at 0x7f7875613d90>"
            ]
          },
          "metadata": {},
          "execution_count": 8
        },
        {
          "output_type": "display_data",
          "data": {
            "text/plain": [
              "<Figure size 432x288 with 1 Axes>"
            ],
            "image/png": "[encoded data removed]"
          },
          "metadata": {
            "needs_background": "light"
          }
        }
      ]
    }
  ]
}